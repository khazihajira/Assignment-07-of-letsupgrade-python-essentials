{
  "nbformat": 4,
  "nbformat_minor": 0,
  "metadata": {
    "colab": {
      "name": "Out listing tuple and list inside a list. ipynb",
      "provenance": [],
      "authorship_tag": "ABX9TyPnczzAsyJtQKMkjfVKHmUM",
      "include_colab_link": true
    },
    "kernelspec": {
      "name": "python3",
      "display_name": "Python 3"
    }
  },
  "cells": [
    {
      "cell_type": "markdown",
      "metadata": {
        "id": "view-in-github",
        "colab_type": "text"
      },
      "source": [
        "<a href=\"https://colab.research.google.com/github/khazihajira/Assignment-07-of-letsupgrade-python-essentials/blob/master/Out_listing_tuple_and_list_inside_a_list_ipynb.ipynb\" target=\"_parent\"><img src=\"https://colab.research.google.com/assets/colab-badge.svg\" alt=\"Open In Colab\"/></a>"
      ]
    },
    {
      "cell_type": "markdown",
      "metadata": {
        "id": "t2Zb_tB3uDVQ",
        "colab_type": "text"
      },
      "source": [
        "#Program to make elements of inner list and tuple to outer list"
      ]
    },
    {
      "cell_type": "code",
      "metadata": {
        "id": "rKxVtvtVsxoN",
        "colab_type": "code",
        "colab": {
          "base_uri": "https://localhost:8080/",
          "height": 54
        },
        "outputId": "bd622fe1-29a9-4c76-dad6-e6b905d48e7d"
      },
      "source": [
        " test_list = [(1,2,3) , [1,2] , ['a' , 'hit' , 'less']]\n",
        "a = [x[0] for x in test_list]\n",
        "b = [i[1] for i in test_list]\n",
        "res = [j[-1] for j in test_list]\n",
        "Output = a + b + res\n",
        "print(Output)"
      ],
      "execution_count": 3,
      "outputs": [
        {
          "output_type": "stream",
          "text": [
            "[1, 1, 'a', 2, 2, 'hit', 3, 2, 'less']\n"
          ],
          "name": "stdout"
        }
      ]
    }
  ]
}