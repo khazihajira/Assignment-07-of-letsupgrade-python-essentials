{
  "nbformat": 4,
  "nbformat_minor": 0,
  "metadata": {
    "colab": {
      "name": "Swapping of keys and values in dictionary. py",
      "provenance": [],
      "collapsed_sections": [],
      "authorship_tag": "ABX9TyP6/Zzy/YxcYFAyrJydjpbB",
      "include_colab_link": true
    },
    "kernelspec": {
      "name": "python3",
      "display_name": "Python 3"
    }
  },
  "cells": [
    {
      "cell_type": "markdown",
      "metadata": {
        "id": "view-in-github",
        "colab_type": "text"
      },
      "source": [
        "<a href=\"https://colab.research.google.com/github/khazihajira/Assignment-07-of-letsupgrade-python-essentials/blob/master/Swapping_of_keys_and_values_in_dictionary_py.ipynb\" target=\"_parent\"><img src=\"https://colab.research.google.com/assets/colab-badge.svg\" alt=\"Open In Colab\"/></a>"
      ]
    },
    {
      "cell_type": "markdown",
      "metadata": {
        "id": "TejpCerIoe9m",
        "colab_type": "text"
      },
      "source": [
        "#Swapping of keys and values in dictionary"
      ]
    },
    {
      "cell_type": "code",
      "metadata": {
        "id": "trs8u8ZprV4o",
        "colab_type": "code",
        "colab": {
          "base_uri": "https://localhost:8080/",
          "height": 88
        },
        "outputId": "789d30ec-147b-44ef-deba-7727b3844edf"
      },
      "source": [
        " print(\"Swapping Keys and Values in Dictionary \\n\") \n",
        " \n",
        "port1 = {21 : \"FTP\" , 22 : \"SSH\" , 23 : \"telenet\" , 80 : \"http\"} \n",
        " \n",
        "After_swapping = {value : key for key,value in port1.items()}\n",
        " \n",
        " print(After_swapping)"
      ],
      "execution_count": 7,
      "outputs": [
        {
          "output_type": "stream",
          "text": [
            "Swapping Keys and Values in Dictionary \n",
            "\n",
            "{'FTP': 21, 'SSH': 22, 'telenet': 23, 'http': 80}\n"
          ],
          "name": "stdout"
        }
      ]
    },
    {
      "cell_type": "code",
      "metadata": {
        "id": "ilTR2HJhn1KL",
        "colab_type": "code",
        "colab": {
          "base_uri": "https://localhost:8080/",
          "height": 190
        },
        "outputId": "77889624-79ca-4ee8-d8b6-fdc82ba5f2fd"
      },
      "source": [
        " \n",
        "port1 = {\"FTP\" : 21, \"SSH\" : 22, \"telnet\" :23 , \"http\": 80} \n",
        " \n",
        "# Printing original dictionary  \n",
        " \n",
        "print (\"Original dictionary is : \") \n",
        " \n",
        "print(port1)  \n",
        " \n",
        " print() \n",
        " \n",
        "new_dict = {} \n",
        " \n",
        "for key, value in port1.items(): \n",
        " \n",
        "   if value in new_dict: \n",
        " \n",
        "       new_dict[value].append(key) \n",
        " \n",
        "   else: \n",
        " \n",
        "       new_dict[value]=[key]\n",
        " \n",
        "# keys and values \n",
        " \n",
        "print (\"Dictionary after swapping is :  \")  \n",
        " \n",
        "print(\"keys: values\") \n",
        " \n",
        "for i in new_dict: \n",
        " \n",
        "    print(i, \" :\", new_dict[i])"
      ],
      "execution_count": null,
      "outputs": [
        {
          "output_type": "stream",
          "text": [
            "Original dictionary is : \n",
            "{'FTP': 21, 'SSH': 22, 'telnet': 23, 'http': 80}\n",
            "\n",
            "Dictionary after swapping is :  \n",
            "keys: values\n",
            "21  : ['FTP']\n",
            "22  : ['SSH']\n",
            "23  : ['telnet']\n",
            "80  : ['http']\n"
          ],
          "name": "stdout"
        }
      ]
    },
    {
      "cell_type": "code",
      "metadata": {
        "id": "o5bAiO9YpKJB",
        "colab_type": "code",
        "colab": {
          "base_uri": "https://localhost:8080/",
          "height": 190
        },
        "outputId": "8655bbf4-556c-410c-811a-a7a534d7fac0"
      },
      "source": [
        " \n",
        "# swap of key and value  \n",
        "# initializing dictionary  \n",
        " \n",
        "port2 = {\"FTP\" : 21, \"SSH\": 22, \"telnet\" : 23, \"http\":80} \n",
        "new_dict = dict([(value, key) for key, value in port2.items()]) \n",
        " \n",
        "# Printing original dictionary  \n",
        " \n",
        "print (\"Original dictionary is : \") \n",
        " \n",
        "print(port2)  \n",
        "print() \n",
        " \n",
        "# Printing new dictionary after swapping keys and values \n",
        " \n",
        "print (\"Dictionary after swapping is :  \")  \n",
        " \n",
        "print(\"keys: values\") \n",
        " \n",
        "for i in new_dict: \n",
        " \n",
        "    print(i, \" :  \", new_dict[i])"
      ],
      "execution_count": null,
      "outputs": [
        {
          "output_type": "stream",
          "text": [
            "Original dictionary is : \n",
            "{'FTP': 21, 'SSH': 22, 'telnet': 23, 'http': 80}\n",
            "\n",
            "Dictionary after swapping is :  \n",
            "keys: values\n",
            "21  :   FTP\n",
            "22  :   SSH\n",
            "23  :   telnet\n",
            "80  :   http\n"
          ],
          "name": "stdout"
        }
      ]
    }
  ]
}